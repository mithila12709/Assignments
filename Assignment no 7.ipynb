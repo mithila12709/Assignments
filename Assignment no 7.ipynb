{
 "cells": [
  {
   "cell_type": "code",
   "execution_count": null,
   "id": "28e025d2",
   "metadata": {},
   "outputs": [],
   "source": [
    "# Que: Write a function to find moving average in an array over a window:\n",
    "# Test it over [3, 5, 7, 2, 8, 10, 11, 65, 72, 81, 99, 100, 150] and window of 3."
   ]
  },
  {
   "cell_type": "code",
   "execution_count": null,
   "id": "d0305a13",
   "metadata": {},
   "outputs": [],
   "source": [
    "# the moving average sequence.\n",
    "# formulae for the moving average sequence: n-k+1"
   ]
  },
  {
   "cell_type": "code",
   "execution_count": 2,
   "id": "6a369959",
   "metadata": {},
   "outputs": [],
   "source": [
    "import numpy as np"
   ]
  },
  {
   "cell_type": "code",
   "execution_count": 8,
   "id": "ebc5e888",
   "metadata": {},
   "outputs": [],
   "source": [
    "def moving_avg_seq(input_array,k):\n",
    "    val_array=np.cumsum(input_array,dtype=float)\n",
    "    val_array[3: ]=val_array[3:]-val_array[:-3]\n",
    "    return val_array[3-1:]/3"
   ]
  },
  {
   "cell_type": "code",
   "execution_count": 9,
   "id": "a4b764b1",
   "metadata": {},
   "outputs": [],
   "source": [
    "l=[3, 5, 7, 2, 8, 10, 11, 65, 72, 81, 99, 100, 150]"
   ]
  },
  {
   "cell_type": "code",
   "execution_count": 10,
   "id": "73458fcc",
   "metadata": {},
   "outputs": [],
   "source": [
    "input_array=np.array(l)"
   ]
  },
  {
   "cell_type": "code",
   "execution_count": 11,
   "id": "7e5b583f",
   "metadata": {},
   "outputs": [],
   "source": [
    "final_array=moving_avg_seq(input_array,k=3)"
   ]
  },
  {
   "cell_type": "code",
   "execution_count": 12,
   "id": "201426af",
   "metadata": {},
   "outputs": [
    {
     "data": {
      "text/plain": [
       "array([  5.        ,   4.66666667,   5.66666667,   6.66666667,\n",
       "         9.66666667,  28.66666667,  49.33333333,  72.66666667,\n",
       "        84.        ,  93.33333333, 116.33333333])"
      ]
     },
     "execution_count": 12,
     "metadata": {},
     "output_type": "execute_result"
    }
   ],
   "source": [
    "final_array"
   ]
  },
  {
   "cell_type": "code",
   "execution_count": null,
   "id": "8ebffbc8",
   "metadata": {},
   "outputs": [],
   "source": []
  }
 ],
 "metadata": {
  "kernelspec": {
   "display_name": "Python 3 (ipykernel)",
   "language": "python",
   "name": "python3"
  },
  "language_info": {
   "codemirror_mode": {
    "name": "ipython",
    "version": 3
   },
   "file_extension": ".py",
   "mimetype": "text/x-python",
   "name": "python",
   "nbconvert_exporter": "python",
   "pygments_lexer": "ipython3",
   "version": "3.9.12"
  }
 },
 "nbformat": 4,
 "nbformat_minor": 5
}
