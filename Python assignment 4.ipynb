{
 "cells": [
  {
   "cell_type": "code",
   "execution_count": null,
   "id": "6a67a43c",
   "metadata": {},
   "outputs": [],
   "source": [
    "# 1.1 Write a Python Program(with class concepts) to find the area of the triangle using the below formula.\n",
    "# area = (s*(s-a)*(s-b)*(s-c)) ** 0.5\n",
    "# Function to take the length of the sides of triangle from user should be defined in the parent class and function to calculate the area should be defined in subclass."
   ]
  },
  {
   "cell_type": "code",
   "execution_count": 2,
   "id": "7db48cbd",
   "metadata": {},
   "outputs": [
    {
     "name": "stdout",
     "output_type": "stream",
     "text": [
      "a=67\n",
      "b=87\n",
      "c=98\n",
      "area : 2849.1977818326336\n"
     ]
    }
   ],
   "source": [
    "class main:\n",
    "    def __init__(self,a,b,c):\n",
    "        self.a = float(a)\n",
    "        self.b = float(b)\n",
    "        self.c = float(c)\n",
    "a= int(input(\"a=\"))\n",
    "b= int(input(\"b=\"))\n",
    "c= int(input(\"c=\"))\n",
    "\n",
    "class triangle(main):\n",
    "    def __init__(self,a,b,c):\n",
    "        super().__init__(a,b,c)\n",
    "\n",
    "    def get_area(self):\n",
    "        s = (a + b + c) / 2\n",
    "        return (s*(s-a)*(s-b)*(s-c)) ** 0.5        \n",
    "\n",
    "t = triangle(a,b,c)\n",
    "print(\"area : {}\".format(t.get_area()))"
   ]
  },
  {
   "cell_type": "code",
   "execution_count": null,
   "id": "9f045c0a",
   "metadata": {},
   "outputs": [],
   "source": []
  },
  {
   "cell_type": "code",
   "execution_count": null,
   "id": "b8d4336f",
   "metadata": {},
   "outputs": [],
   "source": [
    "# Write a function filter_long_words() that takes a list of words and an integer n and returns the list of words that are longer than n."
   ]
  },
  {
   "cell_type": "code",
   "execution_count": 6,
   "id": "2e240892",
   "metadata": {},
   "outputs": [],
   "source": [
    "def filter_long_words(l,n):\n",
    " \n",
    "    listOfWords = []\n",
    " \n",
    "    for i in range(len(l)):\n",
    "        if len(l[i]) > n:\n",
    "            listOfWords.append(l[i])\n",
    " \n",
    "    return listOfWords\n",
    " "
   ]
  },
  {
   "cell_type": "code",
   "execution_count": 7,
   "id": "4e62a870",
   "metadata": {},
   "outputs": [
    {
     "data": {
      "text/plain": [
       "['mumbai', 'banglore', 'punee', 'undia']"
      ]
     },
     "execution_count": 7,
     "metadata": {},
     "output_type": "execute_result"
    }
   ],
   "source": [
    "l = ['wor','mumbai','nask','banglore','punee',\"undia\"]\n",
    "n = 4\n",
    " \n",
    "filter_long_words(l,n)"
   ]
  },
  {
   "cell_type": "code",
   "execution_count": null,
   "id": "d34ae9e6",
   "metadata": {},
   "outputs": [],
   "source": []
  },
  {
   "cell_type": "code",
   "execution_count": null,
   "id": "e6e16be6",
   "metadata": {},
   "outputs": [],
   "source": [
    "# Write a Python program using function concept that maps list of words into a list of integers representing the lengths of the corresponding words."
   ]
  },
  {
   "cell_type": "code",
   "execution_count": 8,
   "id": "39803f83",
   "metadata": {},
   "outputs": [],
   "source": [
    "def len_of_words(l):\n",
    "    len_Words = []\n",
    "    for i in range(len(l)):\n",
    "        len_Words.append(len(l[i]))\n",
    "    return len_Words\n"
   ]
  },
  {
   "cell_type": "code",
   "execution_count": 9,
   "id": "a5b23344",
   "metadata": {},
   "outputs": [
    {
     "data": {
      "text/plain": [
       "[4, 5, 7]"
      ]
     },
     "execution_count": 9,
     "metadata": {},
     "output_type": "execute_result"
    }
   ],
   "source": [
    "l = ['tyty', 'ghjhj', 'hgjhgjh']\n",
    "\n",
    "len_of_words(l)"
   ]
  },
  {
   "cell_type": "code",
   "execution_count": null,
   "id": "eba9a4f9",
   "metadata": {},
   "outputs": [],
   "source": []
  },
  {
   "cell_type": "code",
   "execution_count": null,
   "id": "7f521771",
   "metadata": {},
   "outputs": [],
   "source": [
    "# Write a Python function which takes a character (i.e. a string of length 1) and returns True if it is a vowel, False otherwise."
   ]
  },
  {
   "cell_type": "code",
   "execution_count": 10,
   "id": "dcfba954",
   "metadata": {},
   "outputs": [],
   "source": [
    "def vowel(x):\n",
    "    if x in [\"a\", \"e\", \"i\", \"o\", \"u\", \"A\", \"E\", \"I\", \"O\", \"U\"]:\n",
    "        return \"True\"\n",
    "    else:\n",
    "        return \"False \"\n"
   ]
  },
  {
   "cell_type": "code",
   "execution_count": 11,
   "id": "d3749547",
   "metadata": {},
   "outputs": [
    {
     "data": {
      "text/plain": [
       "'False '"
      ]
     },
     "execution_count": 11,
     "metadata": {},
     "output_type": "execute_result"
    }
   ],
   "source": [
    "vowel('c')"
   ]
  },
  {
   "cell_type": "code",
   "execution_count": 12,
   "id": "a0ee5480",
   "metadata": {},
   "outputs": [
    {
     "data": {
      "text/plain": [
       "'True'"
      ]
     },
     "execution_count": 12,
     "metadata": {},
     "output_type": "execute_result"
    }
   ],
   "source": [
    "vowel('i')"
   ]
  },
  {
   "cell_type": "code",
   "execution_count": null,
   "id": "8b130031",
   "metadata": {},
   "outputs": [],
   "source": []
  }
 ],
 "metadata": {
  "kernelspec": {
   "display_name": "Python 3 (ipykernel)",
   "language": "python",
   "name": "python3"
  },
  "language_info": {
   "codemirror_mode": {
    "name": "ipython",
    "version": 3
   },
   "file_extension": ".py",
   "mimetype": "text/x-python",
   "name": "python",
   "nbconvert_exporter": "python",
   "pygments_lexer": "ipython3",
   "version": "3.9.12"
  }
 },
 "nbformat": 4,
 "nbformat_minor": 5
}
